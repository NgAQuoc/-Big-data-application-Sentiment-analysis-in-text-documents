{
 "cells": [
  {
   "cell_type": "markdown",
   "id": "ec0491e9",
   "metadata": {},
   "source": [
    "<div align=\"center\">\n",
    "    <h1> Đồ án 02 Ứng dụng Dữ liệu lớn 19_21</h1>\n",
    "    <h2> Nhóm 6 </h2>\n",
    "</div>\n",
    "\n",
    "19120615\tHùng Ngọc Phát  \n",
    "19120621\tLê Minh Phục  \n",
    "19120633\tNguyễn Anh Quốc  \n",
    "19120689\tLại Khánh Toàn  "
   ]
  },
  {
   "cell_type": "code",
   "execution_count": 1,
   "id": "e49d348b",
   "metadata": {},
   "outputs": [],
   "source": [
    "import re\n",
    "import matplotlib.pyplot as plt\n",
    "import numpy as np\n",
    "import pandas as pd\n",
    "from collections import Counter"
   ]
  },
  {
   "cell_type": "code",
   "execution_count": 2,
   "id": "4e0070f2-55e0-4b77-8bc6-8140456d8f38",
   "metadata": {},
   "outputs": [],
   "source": [
    "from nltk.tokenize import sent_tokenize"
   ]
  },
  {
   "cell_type": "markdown",
   "id": "9bb56a8f",
   "metadata": {},
   "source": [
    "# Load dữ liệu"
   ]
  },
  {
   "cell_type": "markdown",
   "id": "327f9012",
   "metadata": {
    "tags": []
   },
   "source": [
    "## Dữ liệu comment"
   ]
  },
  {
   "cell_type": "code",
   "execution_count": 3,
   "id": "ebd44cfd",
   "metadata": {},
   "outputs": [
    {
     "name": "stderr",
     "output_type": "stream",
     "text": [
      "/tmp/ipykernel_47408/3341891969.py:1: DtypeWarning: Columns (7) have mixed types. Specify dtype option on import or set low_memory=False.\n",
      "  df_fiveStars=pd.read_csv(\"data/raw/5_stars_subwaysurf.csv\",sep=\",\")\n"
     ]
    }
   ],
   "source": [
    "df_fiveStars=pd.read_csv(\"data/raw/5_stars_subwaysurf.csv\",sep=\",\")\n",
    "df_oneStar=pd.read_csv(\"data/raw/1_star_subwaysurf.csv\",sep=\",\")\n",
    "df_cellphones = pd.read_csv(\"data/raw/CellphoneS_review.csv\")\n",
    "df_mobilecity = pd.read_csv(\"data/raw/Mobile_City_review.csv\")\n",
    "df_phonereview = pd.concat([df_cellphones, df_mobilecity])"
   ]
  },
  {
   "cell_type": "markdown",
   "id": "b57ab0eb",
   "metadata": {},
   "source": [
    "## Dữ liệu 3000 từ phổ biến nhất trong tiếng Anh"
   ]
  },
  {
   "cell_type": "code",
   "execution_count": 4,
   "id": "0c22053b",
   "metadata": {},
   "outputs": [],
   "source": [
    "eng_dict_df = pd.read_csv(\"dict/english-3k.txt\", header=None)"
   ]
  },
  {
   "cell_type": "code",
   "execution_count": 5,
   "id": "44bd915c",
   "metadata": {},
   "outputs": [],
   "source": [
    "eng_dict = eng_dict_df[0].to_list()"
   ]
  },
  {
   "cell_type": "markdown",
   "id": "cc73eb6b",
   "metadata": {},
   "source": [
    "## Dữ liệu từ điển tiếng Việt"
   ]
  },
  {
   "cell_type": "code",
   "execution_count": 6,
   "id": "a9253544",
   "metadata": {},
   "outputs": [],
   "source": [
    "dict_df = pd.read_json(\"dict/words.txt\", lines=True)"
   ]
  },
  {
   "cell_type": "code",
   "execution_count": 7,
   "id": "fb7cae57",
   "metadata": {},
   "outputs": [
    {
     "data": {
      "text/plain": [
       "79197"
      ]
     },
     "execution_count": 7,
     "metadata": {},
     "output_type": "execute_result"
    }
   ],
   "source": [
    "# Syllable tokenize từng entry trong từ điển\n",
    "words_list = dict_df.text.apply(lambda x: re.split(r'[\\s-]', x)).to_list()\n",
    "len(words_list)"
   ]
  },
  {
   "cell_type": "markdown",
   "id": "6df6319a",
   "metadata": {},
   "source": [
    "Ta sẽ chuyển **từ điển** này thành **tự điển** (mỗi mục sẽ là một **tiếng** trong tiếng Việt)"
   ]
  },
  {
   "cell_type": "code",
   "execution_count": 8,
   "id": "f45c207d",
   "metadata": {},
   "outputs": [],
   "source": [
    "# Flatten\n",
    "words_list = [w.lower() for entry in words_list for w in entry]"
   ]
  },
  {
   "cell_type": "code",
   "execution_count": 9,
   "id": "d2b3fbaa",
   "metadata": {},
   "outputs": [
    {
     "data": {
      "text/plain": [
       "10262"
      ]
     },
     "execution_count": 9,
     "metadata": {},
     "output_type": "execute_result"
    }
   ],
   "source": [
    "words_list = set(words_list)\n",
    "len(words_list)"
   ]
  },
  {
   "cell_type": "markdown",
   "id": "2751fe15",
   "metadata": {},
   "source": [
    "# Preprocess comment đơn giản"
   ]
  },
  {
   "cell_type": "markdown",
   "id": "4f3b5fd4-d496-4123-9854-b82de7a7232a",
   "metadata": {},
   "source": [
    "Đối với dữ liệu review điện thoại facebook: cắt các comment thành các câu."
   ]
  },
  {
   "cell_type": "code",
   "execution_count": 10,
   "id": "7fcbb67a-58cf-4aa4-8273-d5ab4b83f4f6",
   "metadata": {},
   "outputs": [],
   "source": [
    "df_phonereview[\"content\"] = df_phonereview.content.map(sent_tokenize)"
   ]
  },
  {
   "cell_type": "code",
   "execution_count": 11,
   "id": "61ccb8c6-ec8e-40fa-91dd-aa8b663c8279",
   "metadata": {},
   "outputs": [],
   "source": [
    "df_phonereview = df_phonereview.explode(\"content\")"
   ]
  },
  {
   "cell_type": "markdown",
   "id": "484d6caf",
   "metadata": {},
   "source": [
    "Các bước xử lý\n",
    "- Bỏ các ký tự đặc biệt (emoji, biểu tượng, chữ tiếng Trung, ...)\n",
    "- Bỏ HTML\n",
    "- Bỏ URL\n",
    "- Bỏ các số\n",
    "- Chuẩn hoá unicode NFC"
   ]
  },
  {
   "cell_type": "code",
   "execution_count": 12,
   "id": "37323669",
   "metadata": {},
   "outputs": [],
   "source": [
    "import re\n",
    "import unicodedata\n",
    "\n",
    "\n",
    "def preprocess(sentence):\n",
    "    sentence=str(sentence)\n",
    "    sentence = sentence.lower()\n",
    "    sentence=sentence.replace('{html}',\"\") \n",
    "    emoji = re.compile(\"[\"\n",
    "        u\"\\U0001F600-\\U0001F64F\"  # emoticons\n",
    "        u\"\\U0001F300-\\U0001F5FF\"  # symbols & pictographs\n",
    "        u\"\\U0001F680-\\U0001F6FF\"  # transport & map symbols\n",
    "        u\"\\U0001F1E0-\\U0001F1FF\"  # flags (iOS)\n",
    "        u\"\\U00002500-\\U00002BEF\"  # chinese char\n",
    "        u\"\\U00002702-\\U000027B0\"\n",
    "        u\"\\U00002702-\\U000027B0\"\n",
    "        u\"\\U000024C2-\\U0001F251\"\n",
    "        u\"\\U0001f926-\\U0001f937\"\n",
    "        u\"\\U00010000-\\U0010ffff\"\n",
    "        u\"\\u2640-\\u2642\" \n",
    "        u\"\\u2600-\\u2B55\"\n",
    "        u\"\\u200d\"\n",
    "        u\"\\u23cf\"\n",
    "        u\"\\u23e9\"\n",
    "        u\"\\u231a\"\n",
    "        u\"\\ufe0f\"  # dingbats\n",
    "        u\"\\u3030\"\n",
    "                      \"]+\", re.UNICODE)\n",
    "    sentence = re.sub(r\"[-()\\\"#/@;:<>{}`+=~|.!?,_^%&*]\", \"\", sentence)\n",
    "    cleantext = re.sub(emoji, '', sentence)\n",
    "    rem_url=re.sub(r'http\\S+', '',cleantext)\n",
    "    rem_num = re.sub('[0-9]+', '', rem_url)\n",
    "    return \" \".join(rem_num.strip().split())"
   ]
  },
  {
   "cell_type": "markdown",
   "id": "afd64551",
   "metadata": {},
   "source": [
    "Chỉ giữ lại các câu dài hơn 4 từ"
   ]
  },
  {
   "cell_type": "code",
   "execution_count": 13,
   "id": "27dda1b0-f24c-451a-af2e-bb750e748931",
   "metadata": {},
   "outputs": [],
   "source": [
    "def process_df(df):\n",
    "    clean_text = df[\"content\"].map(preprocess).map(lambda x: unicodedata.normalize(\"NFC\", x))\n",
    "    clean_text = clean_text.replace(\"\", np.nan)\n",
    "    \n",
    "    df[\"cleanText\"] = clean_text\n",
    "    df = df.dropna(subset=[\"cleanText\"])\n",
    "    \n",
    "    text_length = df[\"cleanText\"].map(lambda x: len(x.split()))\n",
    "    df = df[text_length > 4]\n",
    "    return df"
   ]
  },
  {
   "cell_type": "code",
   "execution_count": 14,
   "id": "73d68ac1-2117-42a7-83ed-e4ef6e3d6c43",
   "metadata": {},
   "outputs": [],
   "source": [
    "df_oneStar = process_df(df_oneStar)\n",
    "df_fiveStars = process_df(df_fiveStars)\n",
    "df_phonereview = process_df(df_phonereview)"
   ]
  },
  {
   "cell_type": "code",
   "execution_count": 15,
   "id": "68d16730-41fe-40b3-aab4-80373e6f4a27",
   "metadata": {},
   "outputs": [],
   "source": [
    "df_oneStar = df_oneStar.sample(6000, random_state=0)\n",
    "df_fiveStars = df_fiveStars.sample(6000, random_state=0)"
   ]
  },
  {
   "cell_type": "markdown",
   "id": "d68bfd7c",
   "metadata": {
    "tags": []
   },
   "source": [
    "# Tiếp tục preprocess kết hợp EDA"
   ]
  },
  {
   "cell_type": "code",
   "execution_count": 16,
   "id": "81036bf2",
   "metadata": {},
   "outputs": [],
   "source": [
    "one_star_df = df_oneStar\n",
    "five_star_df = df_fiveStars\n",
    "phone_review_df = df_phonereview"
   ]
  },
  {
   "cell_type": "markdown",
   "id": "b781dbe1",
   "metadata": {},
   "source": [
    "## Tokenize theo âm tiết"
   ]
  },
  {
   "cell_type": "code",
   "execution_count": 17,
   "id": "b468ae5b",
   "metadata": {},
   "outputs": [],
   "source": [
    "one_star_df[\"tokens\"] = one_star_df.cleanText.str.split()\n",
    "five_star_df[\"tokens\"] = five_star_df.cleanText.str.split()\n",
    "phone_review_df[\"tokens\"] = phone_review_df.cleanText.str.split()"
   ]
  },
  {
   "cell_type": "markdown",
   "id": "4831e162",
   "metadata": {},
   "source": [
    "## Liệt kê ra những từ trong comment mà không có trong tự điển"
   ]
  },
  {
   "cell_type": "code",
   "execution_count": 18,
   "id": "fd0c4c48",
   "metadata": {},
   "outputs": [],
   "source": [
    "def list_exotic_words(sent):\n",
    "    # Hàm trả về danh sách các từ không tồn tại trong tự điển tiếng Việt cho một câu\n",
    "    exotic_words = []\n",
    "    for word in sent:\n",
    "        if word not in words_list:\n",
    "            exotic_words.append(word)\n",
    "    return set(exotic_words)\n",
    "\n",
    "one_star_df[\"exotic_words\"] = one_star_df.tokens.apply(list_exotic_words)\n",
    "five_star_df[\"exotic_words\"] = five_star_df.tokens.apply(list_exotic_words)\n",
    "phone_review_df[\"exotic_words\"] = phone_review_df.tokens.apply(list_exotic_words)"
   ]
  },
  {
   "cell_type": "code",
   "execution_count": 19,
   "id": "ca27a921",
   "metadata": {},
   "outputs": [],
   "source": [
    "exotic_words = [w for sent in one_star_df[\"exotic_words\"] for w in sent]\n",
    "exotic_words += [w for sent in five_star_df[\"exotic_words\"] for w in sent]"
   ]
  },
  {
   "cell_type": "markdown",
   "id": "179ab7de",
   "metadata": {},
   "source": [
    "**Danh sách top 100 từ phổ biến nhất mà không có trong từ điển**"
   ]
  },
  {
   "cell_type": "code",
   "execution_count": 20,
   "id": "f553df1c",
   "metadata": {},
   "outputs": [
    {
     "data": {
      "text/plain": [
       "[('game', 3954),\n",
       " ('đc', 587),\n",
       " ('dc', 332),\n",
       " ('lag', 237),\n",
       " ('chs', 217),\n",
       " ('duoc', 189),\n",
       " ('hack', 180),\n",
       " ('thich', 178),\n",
       " ('lun', 141),\n",
       " ('khong', 127),\n",
       " ('cac', 126),\n",
       " ('mik', 100),\n",
       " ('luon', 99),\n",
       " ('facebook', 95),\n",
       " ('nhieu', 93),\n",
       " ('gem', 87),\n",
       " ('good', 83),\n",
       " ('nguoi', 81),\n",
       " ('wa', 79),\n",
       " ('subway', 76),\n",
       " ('vn', 72),\n",
       " ('this', 72),\n",
       " ('dau', 69),\n",
       " ('vl', 69),\n",
       " ('ae', 68),\n",
       " ('is', 68),\n",
       " ('hk', 61),\n",
       " ('that', 61),\n",
       " ('very', 60),\n",
       " ('like', 56),\n",
       " ('mat', 55),\n",
       " ('nhat', 54),\n",
       " ('vs', 54),\n",
       " ('and', 54),\n",
       " ('geam', 51),\n",
       " ('mk', 51),\n",
       " ('you', 51),\n",
       " ('play', 50),\n",
       " ('ng', 50),\n",
       " ('tuyet', 50),\n",
       " ('skin', 49),\n",
       " ('lol', 48),\n",
       " ('thik', 48),\n",
       " ('fb', 46),\n",
       " ('wifi', 45),\n",
       " ('cx', 45),\n",
       " ('dk', 43),\n",
       " ('het', 43),\n",
       " ('cap', 43),\n",
       " ('love', 43),\n",
       " ('biet', 43),\n",
       " ('surfers', 42),\n",
       " ('cuc', 42),\n",
       " ('đm', 42),\n",
       " ('rât', 42),\n",
       " ('update', 40),\n",
       " ('luc', 40),\n",
       " ('phien', 40),\n",
       " ('bn', 40),\n",
       " ('mot', 39),\n",
       " ('tien', 39),\n",
       " ('map', 38),\n",
       " ('dat', 36),\n",
       " ('free', 35),\n",
       " ('acc', 35),\n",
       " ('muon', 35),\n",
       " ('games', 34),\n",
       " ('bt', 33),\n",
       " ('tot', 32),\n",
       " ('nick', 32),\n",
       " ('zui', 32),\n",
       " ('dm', 31),\n",
       " ('lac', 30),\n",
       " ('nv', 30),\n",
       " ('app', 29),\n",
       " ('but', 29),\n",
       " ('luong', 29),\n",
       " ('coin', 29),\n",
       " ('zenfone', 28),\n",
       " ('gema', 28),\n",
       " ('gaem', 28),\n",
       " ('them', 28),\n",
       " ('vcl', 28),\n",
       " ('dell', 28),\n",
       " ('loz', 27),\n",
       " ('out', 27),\n",
       " ('ghet', 26),\n",
       " ('nhap', 26),\n",
       " ('kh', 26),\n",
       " ('ik', 26),\n",
       " ('lm', 25),\n",
       " ('face', 24),\n",
       " ('add', 24),\n",
       " ('nx', 24),\n",
       " ('tren', 24),\n",
       " ('ff', 23),\n",
       " ('dien', 23),\n",
       " ('khac', 23),\n",
       " ('full', 23),\n",
       " ('reset', 22)]"
      ]
     },
     "execution_count": 20,
     "metadata": {},
     "output_type": "execute_result"
    }
   ],
   "source": [
    "exotic_counter = Counter(exotic_words)\n",
    "most_common_exotic = exotic_counter.most_common(100)\n",
    "most_common_exotic"
   ]
  },
  {
   "cell_type": "markdown",
   "id": "590c42a1",
   "metadata": {},
   "source": [
    "## Thay thế các từ teencode"
   ]
  },
  {
   "cell_type": "markdown",
   "id": "76d51844",
   "metadata": {},
   "source": [
    "Nhóm sử dụng 2 \"từ điển\" để thực hiện thay thế. Một từ điển được tải về từ trang [xltiengviet](https://xltiengviet.fandom.com/wiki/Danh_s%C3%A1ch_teencode_ph%E1%BB%95_bi%E1%BA%BFn_trong_ti%E1%BA%BFng_Vi%E1%BB%87t), một từ điển được nhóm trích từ 100 từ phổ biến nhất từ dataset như ở trên. Từ điển tải về từ web trên sẽ được ưu tiên hơn vì vốn từ nhiều hơn.\n",
    "\n",
    "Các từ teencode tục tĩu (từ dataset trên) sẽ được nhóm gán lại thành nhãn `PROFANE`. Các từ tục tĩu không nằm trong danh sách ở trên sẽ được giữ nguyên (thường mang tính tiêu cực, có thể giúp mô hình dễ dàng nhận diện đó là câu tiêu cực)."
   ]
  },
  {
   "cell_type": "markdown",
   "id": "d7bee45a",
   "metadata": {},
   "source": [
    "Trong các chữ này, một số chữ sẽ được bổ sung vào tự điển, một số chữ sẽ được sửa lại theo nghĩa phổ biến nhất của nó. Ví dụ:\n",
    "- đc: được\n",
    "- chs: chơi\n",
    "- mik: mình\n",
    "- ...\n",
    "\n",
    "\"Luật\" thay thế được nhóm viết ở file `replace_rule.csv`\n",
    "\n",
    "Sau khi xong bước trên, các từ còn lại mà không có trong tự điển sẽ bị loại bỏ khỏi câu"
   ]
  },
  {
   "cell_type": "code",
   "execution_count": 21,
   "id": "2ace5b95",
   "metadata": {},
   "outputs": [
    {
     "data": {
      "text/html": [
       "<div>\n",
       "<style scoped>\n",
       "    .dataframe tbody tr th:only-of-type {\n",
       "        vertical-align: middle;\n",
       "    }\n",
       "\n",
       "    .dataframe tbody tr th {\n",
       "        vertical-align: top;\n",
       "    }\n",
       "\n",
       "    .dataframe thead th {\n",
       "        text-align: right;\n",
       "    }\n",
       "</style>\n",
       "<table border=\"1\" class=\"dataframe\">\n",
       "  <thead>\n",
       "    <tr style=\"text-align: right;\">\n",
       "      <th></th>\n",
       "      <th>value</th>\n",
       "    </tr>\n",
       "    <tr>\n",
       "      <th>key</th>\n",
       "      <th></th>\n",
       "    </tr>\n",
       "  </thead>\n",
       "  <tbody>\n",
       "    <tr>\n",
       "      <th>ctrai</th>\n",
       "      <td>con trai</td>\n",
       "    </tr>\n",
       "    <tr>\n",
       "      <th>khôg</th>\n",
       "      <td>không</td>\n",
       "    </tr>\n",
       "    <tr>\n",
       "      <th>bme</th>\n",
       "      <td>bố mẹ</td>\n",
       "    </tr>\n",
       "    <tr>\n",
       "      <th>cta</th>\n",
       "      <td>chúng ta</td>\n",
       "    </tr>\n",
       "    <tr>\n",
       "      <th>mih</th>\n",
       "      <td>mình</td>\n",
       "    </tr>\n",
       "    <tr>\n",
       "      <th>...</th>\n",
       "      <td>...</td>\n",
       "    </tr>\n",
       "    <tr>\n",
       "      <th>zô</th>\n",
       "      <td>dô</td>\n",
       "    </tr>\n",
       "    <tr>\n",
       "      <th>zú</th>\n",
       "      <td>vú</td>\n",
       "    </tr>\n",
       "    <tr>\n",
       "      <th>cmnd</th>\n",
       "      <td>chứng minh nhân dân</td>\n",
       "    </tr>\n",
       "    <tr>\n",
       "      <th>sđt</th>\n",
       "      <td>số điện thoại</td>\n",
       "    </tr>\n",
       "    <tr>\n",
       "      <th>klq</th>\n",
       "      <td>không liên quan</td>\n",
       "    </tr>\n",
       "  </tbody>\n",
       "</table>\n",
       "<p>386 rows × 1 columns</p>\n",
       "</div>"
      ],
      "text/plain": [
       "                     value\n",
       "key                       \n",
       "ctrai             con trai\n",
       "khôg                 không\n",
       "bme                  bố mẹ\n",
       "cta               chúng ta\n",
       "mih                   mình\n",
       "...                    ...\n",
       "zô                      dô\n",
       "zú                      vú\n",
       "cmnd   chứng minh nhân dân\n",
       "sđt          số điện thoại\n",
       "klq        không liên quan\n",
       "\n",
       "[386 rows x 1 columns]"
      ]
     },
     "execution_count": 21,
     "metadata": {},
     "output_type": "execute_result"
    }
   ],
   "source": [
    "teencode_df = pd.read_csv(\"dict/teen_code.tsv\", sep=\"\\t\").set_index(\"key\")\n",
    "teencode_df"
   ]
  },
  {
   "cell_type": "code",
   "execution_count": 22,
   "id": "ad71b543",
   "metadata": {},
   "outputs": [
    {
     "data": {
      "text/html": [
       "<div>\n",
       "<style scoped>\n",
       "    .dataframe tbody tr th:only-of-type {\n",
       "        vertical-align: middle;\n",
       "    }\n",
       "\n",
       "    .dataframe tbody tr th {\n",
       "        vertical-align: top;\n",
       "    }\n",
       "\n",
       "    .dataframe thead th {\n",
       "        text-align: right;\n",
       "    }\n",
       "</style>\n",
       "<table border=\"1\" class=\"dataframe\">\n",
       "  <thead>\n",
       "    <tr style=\"text-align: right;\">\n",
       "      <th></th>\n",
       "      <th>value</th>\n",
       "    </tr>\n",
       "    <tr>\n",
       "      <th>key</th>\n",
       "      <th></th>\n",
       "    </tr>\n",
       "  </thead>\n",
       "  <tbody>\n",
       "    <tr>\n",
       "      <th>đc</th>\n",
       "      <td>được</td>\n",
       "    </tr>\n",
       "    <tr>\n",
       "      <th>chs</th>\n",
       "      <td>chơi</td>\n",
       "    </tr>\n",
       "    <tr>\n",
       "      <th>dc</th>\n",
       "      <td>được</td>\n",
       "    </tr>\n",
       "    <tr>\n",
       "      <th>duoc</th>\n",
       "      <td>được</td>\n",
       "    </tr>\n",
       "    <tr>\n",
       "      <th>lun</th>\n",
       "      <td>luôn</td>\n",
       "    </tr>\n",
       "    <tr>\n",
       "      <th>...</th>\n",
       "      <td>...</td>\n",
       "    </tr>\n",
       "    <tr>\n",
       "      <th>dcm</th>\n",
       "      <td>PROFANE</td>\n",
       "    </tr>\n",
       "    <tr>\n",
       "      <th>j</th>\n",
       "      <td>gì</td>\n",
       "    </tr>\n",
       "    <tr>\n",
       "      <th>dkm</th>\n",
       "      <td>PROFANE</td>\n",
       "    </tr>\n",
       "    <tr>\n",
       "      <th>wá</th>\n",
       "      <td>quá</td>\n",
       "    </tr>\n",
       "    <tr>\n",
       "      <th>nhug</th>\n",
       "      <td>nhưng</td>\n",
       "    </tr>\n",
       "  </tbody>\n",
       "</table>\n",
       "<p>79 rows × 1 columns</p>\n",
       "</div>"
      ],
      "text/plain": [
       "        value\n",
       "key          \n",
       "đc       được\n",
       "chs      chơi\n",
       "dc       được\n",
       "duoc     được\n",
       "lun      luôn\n",
       "...       ...\n",
       "dcm   PROFANE\n",
       "j          gì\n",
       "dkm   PROFANE\n",
       "wá        quá\n",
       "nhug    nhưng\n",
       "\n",
       "[79 rows x 1 columns]"
      ]
     },
     "execution_count": 22,
     "metadata": {},
     "output_type": "execute_result"
    }
   ],
   "source": [
    "replace_rules_df = pd.read_csv(\"dict/replace_rules.csv\").set_index(\"key\")\n",
    "replace_rules_df"
   ]
  },
  {
   "cell_type": "code",
   "execution_count": 23,
   "id": "593a99dd",
   "metadata": {},
   "outputs": [],
   "source": [
    "def replace_teencode(sent):\n",
    "    final = []\n",
    "    \n",
    "    for word in sent:  \n",
    "        if word in teencode_df.index:\n",
    "            word_to_append = teencode_df.loc[word, \"value\"]\n",
    "        if word in replace_rules_df.index:\n",
    "            word_to_append = replace_rules_df.loc[word, \"value\"]\n",
    "        else:\n",
    "            word_to_append = word\n",
    "        final.append(word_to_append)\n",
    "    \n",
    "    return final"
   ]
  },
  {
   "cell_type": "code",
   "execution_count": 24,
   "id": "98fc6816",
   "metadata": {},
   "outputs": [
    {
     "data": {
      "text/plain": [
       "['PROFANE',\n",
       " 'game',\n",
       " 'này',\n",
       " 'chơi',\n",
       " 'mãi',\n",
       " 'mà',\n",
       " 'không',\n",
       " 'xong',\n",
       " 'được',\n",
       " 'PROFANE']"
      ]
     },
     "execution_count": 24,
     "metadata": {},
     "output_type": "execute_result"
    }
   ],
   "source": [
    "replace_teencode(\"vcl gêm này chơi mãi mak dell xog đc dkm\".split())"
   ]
  },
  {
   "cell_type": "code",
   "execution_count": 25,
   "id": "083873f7",
   "metadata": {},
   "outputs": [],
   "source": [
    "one_star_df.tokens = one_star_df.tokens.apply(replace_teencode)\n",
    "five_star_df.tokens = five_star_df.tokens.apply(replace_teencode)\n",
    "phone_review_df.tokens = phone_review_df.tokens.apply(replace_teencode)"
   ]
  },
  {
   "cell_type": "markdown",
   "id": "ab5050ff",
   "metadata": {},
   "source": [
    "## Bỏ các từ không nằm trong tự điển tiếng Việt và 3000 từ phổ biến tiếng Anh"
   ]
  },
  {
   "cell_type": "markdown",
   "id": "6cac9c7d",
   "metadata": {},
   "source": [
    "Hiện tại ta đã xử lý xong các từ teencode phổ biến. Những từ teencode còn lại sẽ bị loại bỏ hoàn toàn khỏi câu|"
   ]
  },
  {
   "cell_type": "code",
   "execution_count": 26,
   "id": "3d59a393",
   "metadata": {},
   "outputs": [],
   "source": [
    "words_list.update([\"game\", \"lag\", \"PROFANE\", \"good\"])"
   ]
  },
  {
   "cell_type": "code",
   "execution_count": 27,
   "id": "1567602e",
   "metadata": {},
   "outputs": [],
   "source": [
    "def remove_teencode(sent):\n",
    "    final = []\n",
    "    for word in sent:\n",
    "        if (word in eng_dict) or (word in words_list):\n",
    "            final.append(word)\n",
    "    \n",
    "    return final"
   ]
  },
  {
   "cell_type": "code",
   "execution_count": 28,
   "id": "1ea055dd",
   "metadata": {},
   "outputs": [],
   "source": [
    "one_star_df.tokens = one_star_df.tokens.apply(remove_teencode)\n",
    "five_star_df.tokens = five_star_df.tokens.apply(remove_teencode)\n",
    "phone_review_df.tokens = phone_review_df.tokens.apply(remove_teencode)"
   ]
  },
  {
   "cell_type": "markdown",
   "id": "474769d7",
   "metadata": {},
   "source": [
    "## Tối hậu xử lý\n",
    "\n",
    "Đây là bước xử lý cuối cùng. Các câu thoả 1 trong 2 điều kiện sau sẽ bị loại bỏ\n",
    "- Có độ dài < 3\n",
    "- Có > 50% các chữ không nằm trong tự điển tiếng Việt\n",
    "\n",
    "Các token sẽ được nối lại thành 1 câu như ban đầu"
   ]
  },
  {
   "cell_type": "code",
   "execution_count": 29,
   "id": "327b5e5a",
   "metadata": {},
   "outputs": [],
   "source": [
    "def final_keep(sent):\n",
    "    if len(sent) < 3:\n",
    "        return False\n",
    "    \n",
    "    n_vi = 0\n",
    "    for word in sent:\n",
    "        if word in words_list:\n",
    "            n_vi += 1\n",
    "        \n",
    "    if n_vi / len(sent) < 0.5:\n",
    "        return False\n",
    "    \n",
    "    return True"
   ]
  },
  {
   "cell_type": "code",
   "execution_count": 30,
   "id": "e0ac1e10",
   "metadata": {},
   "outputs": [],
   "source": [
    "one_star_df = one_star_df[one_star_df.tokens.apply(final_keep)]\n",
    "five_star_df = five_star_df[five_star_df.tokens.apply(final_keep)]\n",
    "phone_review_df = phone_review_df[phone_review_df.tokens.apply(final_keep)].copy()"
   ]
  },
  {
   "cell_type": "code",
   "execution_count": 31,
   "id": "6d47f4fb",
   "metadata": {},
   "outputs": [],
   "source": [
    "one_star_df = one_star_df.tokens.apply(lambda x: \" \".join(x)).to_frame()\n",
    "five_star_df = five_star_df.tokens.apply(lambda x: \" \".join(x)).to_frame()\n",
    "\n",
    "phone_review_df[\"cleanText\"] = phone_review_df.tokens.apply(lambda x: \" \".join(x))"
   ]
  },
  {
   "cell_type": "markdown",
   "id": "ac05fe3d",
   "metadata": {},
   "source": [
    "# Gán nhãn nhanh bằng thư viện underthesea\n",
    "\n",
    "Dữ liệu từ google play rất hỗn loạn và nhiều nên nhóm sẽ tiến hành dán nhãn tự động trước và kiểm tra lại sau.\n",
    "\n",
    "Với dữ liệu phone review, nhóm dán nhãn hoàn toàn thủ công."
   ]
  },
  {
   "cell_type": "code",
   "execution_count": 32,
   "id": "a4cd80e4",
   "metadata": {},
   "outputs": [],
   "source": [
    "import os.path\n",
    "from underthesea import sentiment\n",
    "from underthesea.model_fetcher import ModelFetcher\n",
    "from joblib import load"
   ]
  },
  {
   "cell_type": "code",
   "execution_count": 33,
   "id": "c86d64e9",
   "metadata": {},
   "outputs": [],
   "source": [
    "# Để thư viện tự động download model về\n",
    "sentiment(\"thử nghiệm\")"
   ]
  },
  {
   "cell_type": "markdown",
   "id": "9f5a1183",
   "metadata": {},
   "source": [
    "Mặc định thư viện sẽ không trả về xác suất của các class. Nhóm đã đọc source code của thư viện và tìm ra cách load model thủ công lên để sử dụng trực tiếp sklearn pipeline đã train sẵn của thư viện."
   ]
  },
  {
   "cell_type": "code",
   "execution_count": 34,
   "id": "7c6fb3b1",
   "metadata": {},
   "outputs": [],
   "source": [
    "model_path = ModelFetcher.get_model_path(\"SA_GENERAL_V131\")\n",
    "model_path = os.path.join(model_path, \"pipeline.joblib\")"
   ]
  },
  {
   "cell_type": "code",
   "execution_count": 35,
   "id": "fff7b8fb",
   "metadata": {},
   "outputs": [],
   "source": [
    "clf = load(model_path)"
   ]
  },
  {
   "cell_type": "code",
   "execution_count": 36,
   "id": "0a302ee0",
   "metadata": {},
   "outputs": [],
   "source": [
    "def sentimental_predict(sentences):\n",
    "    embed = clf[0].transform(sentences)\n",
    "    y_hat = clf[1]._predict_proba_lr(embed)\n",
    "    return y_hat"
   ]
  },
  {
   "cell_type": "code",
   "execution_count": 37,
   "id": "ec3babd1",
   "metadata": {},
   "outputs": [],
   "source": [
    "five_star_df[[\"neg_score\", \"neu_score\", \"pos_score\"]] = sentimental_predict(five_star_df.tokens)\n",
    "one_star_df[[\"neg_score\", \"neu_score\", \"pos_score\"]] = sentimental_predict(one_star_df.tokens)"
   ]
  },
  {
   "cell_type": "code",
   "execution_count": 38,
   "id": "be98469c",
   "metadata": {},
   "outputs": [
    {
     "data": {
      "text/html": [
       "<div>\n",
       "<style scoped>\n",
       "    .dataframe tbody tr th:only-of-type {\n",
       "        vertical-align: middle;\n",
       "    }\n",
       "\n",
       "    .dataframe tbody tr th {\n",
       "        vertical-align: top;\n",
       "    }\n",
       "\n",
       "    .dataframe thead th {\n",
       "        text-align: right;\n",
       "    }\n",
       "</style>\n",
       "<table border=\"1\" class=\"dataframe\">\n",
       "  <thead>\n",
       "    <tr style=\"text-align: right;\">\n",
       "      <th></th>\n",
       "      <th>tokens</th>\n",
       "      <th>neg_score</th>\n",
       "      <th>neu_score</th>\n",
       "      <th>pos_score</th>\n",
       "    </tr>\n",
       "  </thead>\n",
       "  <tbody>\n",
       "    <tr>\n",
       "      <th>3343</th>\n",
       "      <td>tôi rất thích trò chơi này</td>\n",
       "      <td>0.228695</td>\n",
       "      <td>0.257136</td>\n",
       "      <td>0.514168</td>\n",
       "    </tr>\n",
       "    <tr>\n",
       "      <th>2359</th>\n",
       "      <td>tải video lúc được lúc không đang chơi mà tải ...</td>\n",
       "      <td>0.289147</td>\n",
       "      <td>0.417150</td>\n",
       "      <td>0.293704</td>\n",
       "    </tr>\n",
       "    <tr>\n",
       "      <th>9412</th>\n",
       "      <td>lúc vào game thì lâu ơi là lâu</td>\n",
       "      <td>0.404163</td>\n",
       "      <td>0.339140</td>\n",
       "      <td>0.256697</td>\n",
       "    </tr>\n",
       "    <tr>\n",
       "      <th>24</th>\n",
       "      <td>cập nhật xong không đăng nhập được nữa là sao</td>\n",
       "      <td>0.377559</td>\n",
       "      <td>0.368529</td>\n",
       "      <td>0.253912</td>\n",
       "    </tr>\n",
       "    <tr>\n",
       "      <th>6255</th>\n",
       "      <td>rất hay nhưng mà thấy mọi người cứ cho một sao...</td>\n",
       "      <td>0.340983</td>\n",
       "      <td>0.396335</td>\n",
       "      <td>0.262682</td>\n",
       "    </tr>\n",
       "  </tbody>\n",
       "</table>\n",
       "</div>"
      ],
      "text/plain": [
       "                                                 tokens  neg_score  neu_score  \\\n",
       "3343                         tôi rất thích trò chơi này   0.228695   0.257136   \n",
       "2359  tải video lúc được lúc không đang chơi mà tải ...   0.289147   0.417150   \n",
       "9412                     lúc vào game thì lâu ơi là lâu   0.404163   0.339140   \n",
       "24        cập nhật xong không đăng nhập được nữa là sao   0.377559   0.368529   \n",
       "6255  rất hay nhưng mà thấy mọi người cứ cho một sao...   0.340983   0.396335   \n",
       "\n",
       "      pos_score  \n",
       "3343   0.514168  \n",
       "2359   0.293704  \n",
       "9412   0.256697  \n",
       "24     0.253912  \n",
       "6255   0.262682  "
      ]
     },
     "execution_count": 38,
     "metadata": {},
     "output_type": "execute_result"
    }
   ],
   "source": [
    "one_star_df.sample(5)"
   ]
  },
  {
   "cell_type": "code",
   "execution_count": 39,
   "id": "f816eb12",
   "metadata": {},
   "outputs": [
    {
     "data": {
      "image/png": "[encoded data removed]",
      "text/plain": [
       "<Figure size 640x480 with 3 Axes>"
      ]
     },
     "metadata": {},
     "output_type": "display_data"
    }
   ],
   "source": [
    "fig, ax = plt.subplots(ncols=3, sharey=True)\n",
    "five_star_df.neg_score.plot(kind=\"box\", ax=ax[0])\n",
    "five_star_df.neu_score.plot(kind=\"box\", ax=ax[1])\n",
    "five_star_df.pos_score.plot(kind=\"box\", ax=ax[2])\n",
    "fig.suptitle(\"Probability distribution of 3 classes\\n labeled by `underthesea` on the FIVE STAR dataset\")\n",
    "plt.tight_layout()"
   ]
  },
  {
   "cell_type": "markdown",
   "id": "93b5ad40",
   "metadata": {},
   "source": [
    "**Với tập các comment 5 sao**, ta thấy \"confidence\" của lớp negative không cao. Vậy ta sẽ giữ lại các comment 5* bằng cách lấy ra tập con của tập trên sao cho `pos_score > 0.2` và `neg_score < 0.3`. "
   ]
  },
  {
   "cell_type": "code",
   "execution_count": 40,
   "id": "fe4bc412",
   "metadata": {},
   "outputs": [],
   "source": [
    "five_star_keep = five_star_df[(five_star_df.pos_score > 0.31)]\n",
    "five_star_keep = five_star_keep.drop_duplicates(subset=[\"tokens\"]).reset_index(drop=True)"
   ]
  },
  {
   "cell_type": "code",
   "execution_count": 41,
   "id": "2a887dfa",
   "metadata": {},
   "outputs": [
    {
     "data": {
      "text/html": [
       "<div>\n",
       "<style scoped>\n",
       "    .dataframe tbody tr th:only-of-type {\n",
       "        vertical-align: middle;\n",
       "    }\n",
       "\n",
       "    .dataframe tbody tr th {\n",
       "        vertical-align: top;\n",
       "    }\n",
       "\n",
       "    .dataframe thead th {\n",
       "        text-align: right;\n",
       "    }\n",
       "</style>\n",
       "<table border=\"1\" class=\"dataframe\">\n",
       "  <thead>\n",
       "    <tr style=\"text-align: right;\">\n",
       "      <th></th>\n",
       "      <th>tokens</th>\n",
       "      <th>neg_score</th>\n",
       "      <th>neu_score</th>\n",
       "      <th>pos_score</th>\n",
       "    </tr>\n",
       "  </thead>\n",
       "  <tbody>\n",
       "    <tr>\n",
       "      <th>0</th>\n",
       "      <td>trò này là trò tôi thích nhất</td>\n",
       "      <td>0.222274</td>\n",
       "      <td>0.249790</td>\n",
       "      <td>0.527937</td>\n",
       "    </tr>\n",
       "    <tr>\n",
       "      <th>1</th>\n",
       "      <td>game rất hay tôi se uý ho tiếp</td>\n",
       "      <td>0.268160</td>\n",
       "      <td>0.303166</td>\n",
       "      <td>0.428675</td>\n",
       "    </tr>\n",
       "    <tr>\n",
       "      <th>2</th>\n",
       "      <td>chơi rất hay những tải vê</td>\n",
       "      <td>0.191148</td>\n",
       "      <td>0.306701</td>\n",
       "      <td>0.502151</td>\n",
       "    </tr>\n",
       "    <tr>\n",
       "      <th>3</th>\n",
       "      <td>tôi thấy phiên bản này rất tuyệt vời</td>\n",
       "      <td>0.187743</td>\n",
       "      <td>0.188068</td>\n",
       "      <td>0.624189</td>\n",
       "    </tr>\n",
       "    <tr>\n",
       "      <th>4</th>\n",
       "      <td>hay được tốt tôi thấy rất hay</td>\n",
       "      <td>0.172879</td>\n",
       "      <td>0.216511</td>\n",
       "      <td>0.610610</td>\n",
       "    </tr>\n",
       "    <tr>\n",
       "      <th>...</th>\n",
       "      <td>...</td>\n",
       "      <td>...</td>\n",
       "      <td>...</td>\n",
       "      <td>...</td>\n",
       "    </tr>\n",
       "    <tr>\n",
       "      <th>3765</th>\n",
       "      <td>hay rất hay nhưng có điều mình chơi nhiều nhưn...</td>\n",
       "      <td>0.256461</td>\n",
       "      <td>0.327219</td>\n",
       "      <td>0.416320</td>\n",
       "    </tr>\n",
       "    <tr>\n",
       "      <th>3766</th>\n",
       "      <td>tôi chơi tôi cảm thấy rất hay</td>\n",
       "      <td>0.320669</td>\n",
       "      <td>0.212075</td>\n",
       "      <td>0.467255</td>\n",
       "    </tr>\n",
       "    <tr>\n",
       "      <th>3767</th>\n",
       "      <td>rất hay luôn cho sao</td>\n",
       "      <td>0.290482</td>\n",
       "      <td>0.246731</td>\n",
       "      <td>0.462786</td>\n",
       "    </tr>\n",
       "    <tr>\n",
       "      <th>3768</th>\n",
       "      <td>trò chơi rất hay giải trí rất tuyệt cho sao</td>\n",
       "      <td>0.196078</td>\n",
       "      <td>0.226966</td>\n",
       "      <td>0.576955</td>\n",
       "    </tr>\n",
       "    <tr>\n",
       "      <th>3769</th>\n",
       "      <td>hảo chạy sấp mặt lù</td>\n",
       "      <td>0.313135</td>\n",
       "      <td>0.358767</td>\n",
       "      <td>0.328098</td>\n",
       "    </tr>\n",
       "  </tbody>\n",
       "</table>\n",
       "<p>3770 rows × 4 columns</p>\n",
       "</div>"
      ],
      "text/plain": [
       "                                                 tokens  neg_score  neu_score  \\\n",
       "0                         trò này là trò tôi thích nhất   0.222274   0.249790   \n",
       "1                        game rất hay tôi se uý ho tiếp   0.268160   0.303166   \n",
       "2                             chơi rất hay những tải vê   0.191148   0.306701   \n",
       "3                  tôi thấy phiên bản này rất tuyệt vời   0.187743   0.188068   \n",
       "4                         hay được tốt tôi thấy rất hay   0.172879   0.216511   \n",
       "...                                                 ...        ...        ...   \n",
       "3765  hay rất hay nhưng có điều mình chơi nhiều nhưn...   0.256461   0.327219   \n",
       "3766                      tôi chơi tôi cảm thấy rất hay   0.320669   0.212075   \n",
       "3767                               rất hay luôn cho sao   0.290482   0.246731   \n",
       "3768        trò chơi rất hay giải trí rất tuyệt cho sao   0.196078   0.226966   \n",
       "3769                                hảo chạy sấp mặt lù   0.313135   0.358767   \n",
       "\n",
       "      pos_score  \n",
       "0      0.527937  \n",
       "1      0.428675  \n",
       "2      0.502151  \n",
       "3      0.624189  \n",
       "4      0.610610  \n",
       "...         ...  \n",
       "3765   0.416320  \n",
       "3766   0.467255  \n",
       "3767   0.462786  \n",
       "3768   0.576955  \n",
       "3769   0.328098  \n",
       "\n",
       "[3770 rows x 4 columns]"
      ]
     },
     "execution_count": 41,
     "metadata": {},
     "output_type": "execute_result"
    }
   ],
   "source": [
    "five_star_keep"
   ]
  },
  {
   "cell_type": "code",
   "execution_count": 42,
   "id": "7acdb10f",
   "metadata": {},
   "outputs": [
    {
     "data": {
      "image/png": "[encoded data removed]",
      "text/plain": [
       "<Figure size 640x480 with 3 Axes>"
      ]
     },
     "metadata": {},
     "output_type": "display_data"
    }
   ],
   "source": [
    "fig, ax = plt.subplots(ncols=3, sharey=True)\n",
    "one_star_df.neg_score.plot(kind=\"box\", ax=ax[0])\n",
    "one_star_df.neu_score.plot(kind=\"box\", ax=ax[1])\n",
    "one_star_df.pos_score.plot(kind=\"box\", ax=ax[2])\n",
    "fig.suptitle(\"Probability distribution of 3 classes\\n labeled by `underthesea` on the ONE STAR dataset\")\n",
    "plt.tight_layout()"
   ]
  },
  {
   "cell_type": "markdown",
   "id": "ec1d2a8b",
   "metadata": {},
   "source": [
    "**Tập `one_star` \"nhiễu\" hơn đáng kể so với tập `five_star`** khi confidence của lớp `negative` không vượt quá mức 0.6, trong khi khoảng giá trị của `pos_score` lại khá rộng. \n",
    "\n",
    "Nhóm sẽ chọn ra các comment có `pos_score < 0.5` và `neg_score > 0.34`"
   ]
  },
  {
   "cell_type": "code",
   "execution_count": 43,
   "id": "8b394011",
   "metadata": {},
   "outputs": [],
   "source": [
    "one_star_keep = one_star_df[(one_star_df.pos_score < 0.5) & (one_star_df.neg_score > 0.34)]\n",
    "one_star_keep = one_star_keep.drop_duplicates(subset=[\"tokens\"]).reset_index(drop=True)"
   ]
  },
  {
   "cell_type": "code",
   "execution_count": 44,
   "id": "a9ee1169",
   "metadata": {
    "scrolled": true
   },
   "outputs": [
    {
     "data": {
      "text/html": [
       "<div>\n",
       "<style scoped>\n",
       "    .dataframe tbody tr th:only-of-type {\n",
       "        vertical-align: middle;\n",
       "    }\n",
       "\n",
       "    .dataframe tbody tr th {\n",
       "        vertical-align: top;\n",
       "    }\n",
       "\n",
       "    .dataframe thead th {\n",
       "        text-align: right;\n",
       "    }\n",
       "</style>\n",
       "<table border=\"1\" class=\"dataframe\">\n",
       "  <thead>\n",
       "    <tr style=\"text-align: right;\">\n",
       "      <th></th>\n",
       "      <th>tokens</th>\n",
       "      <th>neg_score</th>\n",
       "      <th>neu_score</th>\n",
       "      <th>pos_score</th>\n",
       "    </tr>\n",
       "  </thead>\n",
       "  <tbody>\n",
       "    <tr>\n",
       "      <th>0</th>\n",
       "      <td>tải xong rồi mà cập nhật l được cc gì hết</td>\n",
       "      <td>0.350758</td>\n",
       "      <td>0.340971</td>\n",
       "      <td>0.308272</td>\n",
       "    </tr>\n",
       "    <tr>\n",
       "      <th>1</th>\n",
       "      <td>chò cúng hay cho sao</td>\n",
       "      <td>0.391703</td>\n",
       "      <td>0.381028</td>\n",
       "      <td>0.227269</td>\n",
       "    </tr>\n",
       "    <tr>\n",
       "      <th>2</th>\n",
       "      <td>vì ứng dụng này đã khiến tôi bị khóa máy nó đã...</td>\n",
       "      <td>0.406606</td>\n",
       "      <td>0.267101</td>\n",
       "      <td>0.326292</td>\n",
       "    </tr>\n",
       "    <tr>\n",
       "      <th>3</th>\n",
       "      <td>sỹ l ủa au</td>\n",
       "      <td>0.361680</td>\n",
       "      <td>0.327944</td>\n",
       "      <td>0.310376</td>\n",
       "    </tr>\n",
       "    <tr>\n",
       "      <th>4</th>\n",
       "      <td>game dễ quá quyết định cho sao</td>\n",
       "      <td>0.390490</td>\n",
       "      <td>0.321801</td>\n",
       "      <td>0.287709</td>\n",
       "    </tr>\n",
       "    <tr>\n",
       "      <th>...</th>\n",
       "      <td>...</td>\n",
       "      <td>...</td>\n",
       "      <td>...</td>\n",
       "      <td>...</td>\n",
       "    </tr>\n",
       "    <tr>\n",
       "      <th>2961</th>\n",
       "      <td>tai ve ma chay không được chan</td>\n",
       "      <td>0.421620</td>\n",
       "      <td>0.304670</td>\n",
       "      <td>0.273710</td>\n",
       "    </tr>\n",
       "    <tr>\n",
       "      <th>2962</th>\n",
       "      <td>rất hay đang dùng thì bị thoát ra vào lại gây ...</td>\n",
       "      <td>0.388950</td>\n",
       "      <td>0.262027</td>\n",
       "      <td>0.349022</td>\n",
       "    </tr>\n",
       "    <tr>\n",
       "      <th>2963</th>\n",
       "      <td>lúc vào game thì lâu ơi là lâu</td>\n",
       "      <td>0.404163</td>\n",
       "      <td>0.339140</td>\n",
       "      <td>0.256697</td>\n",
       "    </tr>\n",
       "    <tr>\n",
       "      <th>2964</th>\n",
       "      <td>sao nhung xoa không xao được</td>\n",
       "      <td>0.464308</td>\n",
       "      <td>0.392421</td>\n",
       "      <td>0.143271</td>\n",
       "    </tr>\n",
       "    <tr>\n",
       "      <th>2965</th>\n",
       "      <td>minh bi mất roi không hay nen cho sao</td>\n",
       "      <td>0.493246</td>\n",
       "      <td>0.375614</td>\n",
       "      <td>0.131139</td>\n",
       "    </tr>\n",
       "  </tbody>\n",
       "</table>\n",
       "<p>2966 rows × 4 columns</p>\n",
       "</div>"
      ],
      "text/plain": [
       "                                                 tokens  neg_score  neu_score  \\\n",
       "0             tải xong rồi mà cập nhật l được cc gì hết   0.350758   0.340971   \n",
       "1                                  chò cúng hay cho sao   0.391703   0.381028   \n",
       "2     vì ứng dụng này đã khiến tôi bị khóa máy nó đã...   0.406606   0.267101   \n",
       "3                                            sỹ l ủa au   0.361680   0.327944   \n",
       "4                        game dễ quá quyết định cho sao   0.390490   0.321801   \n",
       "...                                                 ...        ...        ...   \n",
       "2961                     tai ve ma chay không được chan   0.421620   0.304670   \n",
       "2962  rất hay đang dùng thì bị thoát ra vào lại gây ...   0.388950   0.262027   \n",
       "2963                     lúc vào game thì lâu ơi là lâu   0.404163   0.339140   \n",
       "2964                       sao nhung xoa không xao được   0.464308   0.392421   \n",
       "2965              minh bi mất roi không hay nen cho sao   0.493246   0.375614   \n",
       "\n",
       "      pos_score  \n",
       "0      0.308272  \n",
       "1      0.227269  \n",
       "2      0.326292  \n",
       "3      0.310376  \n",
       "4      0.287709  \n",
       "...         ...  \n",
       "2961   0.273710  \n",
       "2962   0.349022  \n",
       "2963   0.256697  \n",
       "2964   0.143271  \n",
       "2965   0.131139  \n",
       "\n",
       "[2966 rows x 4 columns]"
      ]
     },
     "execution_count": 44,
     "metadata": {},
     "output_type": "execute_result"
    }
   ],
   "source": [
    "one_star_keep"
   ]
  },
  {
   "cell_type": "code",
   "execution_count": 45,
   "id": "db7ea266",
   "metadata": {},
   "outputs": [],
   "source": [
    "five_star_keep.to_csv(\"data/cleaned/five_star_clean.csv\", index=None)"
   ]
  },
  {
   "cell_type": "code",
   "execution_count": 46,
   "id": "71d68300",
   "metadata": {},
   "outputs": [],
   "source": [
    "one_star_keep.to_csv(\"data/cleaned/one_star_clean.csv\", index=None)"
   ]
  },
  {
   "cell_type": "code",
   "execution_count": 47,
   "id": "56eb4cba-82cb-4dd2-9706-2934e9c0bf68",
   "metadata": {},
   "outputs": [],
   "source": [
    "phone_review_df = phone_review_df[[\"cleanText\", \"label\"]]"
   ]
  },
  {
   "cell_type": "code",
   "execution_count": 48,
   "id": "da9ab24e-5789-4aa7-ae7a-c89ee699fd18",
   "metadata": {},
   "outputs": [],
   "source": [
    "phone_review_df.to_csv(\"data/cleaned/phone_review_clean.csv\", index=None)"
   ]
  }
 ],
 "metadata": {
  "kernelspec": {
   "display_name": "Python 3 (ipykernel)",
   "language": "python",
   "name": "python3"
  },
  "language_info": {
   "codemirror_mode": {
    "name": "ipython",
    "version": 3
   },
   "file_extension": ".py",
   "mimetype": "text/x-python",
   "name": "python",
   "nbconvert_exporter": "python",
   "pygments_lexer": "ipython3",
   "version": "3.9.13"
  }
 },
 "nbformat": 4,
 "nbformat_minor": 5
}
