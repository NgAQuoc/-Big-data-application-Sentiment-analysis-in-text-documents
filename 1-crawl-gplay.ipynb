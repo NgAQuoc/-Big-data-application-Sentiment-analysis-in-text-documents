{
 "cells": [
  {
   "cell_type": "code",
   "execution_count": 1,
   "metadata": {},
   "outputs": [],
   "source": [
    "from google_play_scraper import Sort, reviews_all, search\n",
    "import pandas as pd\n",
    "import numpy as np\n",
    "import csv"
   ]
  },
  {
   "cell_type": "code",
   "execution_count": 59,
   "metadata": {},
   "outputs": [
    {
     "name": "stdout",
     "output_type": "stream",
     "text": [
      "[{'appId': 'com.kiloo.subwaysurf', 'icon': 'https://play-lh.googleusercontent.com/Eqdw8K2j0omxE__qDhD6cz0tF9HeB6HyY9GmhK3fXADdTo5_yi_-9z0YzkUfsED0Pw', 'screenshots': ['https://play-lh.googleusercontent.com/z9Cm8t0mKxXI0PvCVbDiqap9lq6hotGgi24INWjCkKsgl7zgfcsM5zQ3nfZbWzGAChHx', 'https://play-lh.googleusercontent.com/GBBJHT9EfAS0e3NlzkboLMx_CkNxwVVwt4DJevc_O7THlQwmB6DL5UYo9jUr0cIoNQ', 'https://play-lh.googleusercontent.com/s1DQ3gmCuR9aDfCynnXMHUKdFFsPkCg7eTyiR4hWHhW8s-fC0hBQ7ne5l7WvEcJfUoIf', 'https://play-lh.googleusercontent.com/sYIuafHlAlrULz7E4bJ3s9L3_PDsnHOkOax7wdxhy3x8fyWxUUVN5jVW4UePgc7YP3k', 'https://play-lh.googleusercontent.com/NYw2mq94Q1A4jFvWJ5A2j6h4IDeDqFXjG02M4drZQDpYhkSWfOtcoq0Ukom1jDmRT6WY', 'https://play-lh.googleusercontent.com/IDs2yKZ3pLC-KdbqdhIYz3o_8n0L3Lbsu8NFSdTZSb1bQf4tgJGx44xDQSNnsRTnbGQ', 'https://play-lh.googleusercontent.com/Yp-lJ_FLHeYv3TT4XMS80cO7YvC7CPRmlcl1PcqmKYm08ekNowvCxv-7oPvq10a-z3o', 'https://play-lh.googleusercontent.com/_JpdVamYmZS-P1UEZe-8TYQaaFRtYUtmtuq6HkerQ6gM7n1KjLVAaOR9fAf7fYm-kQ', 'https://play-lh.googleusercontent.com/exghxyHFnHkGEM611AvmZecUNod5hfIRckuWlXg7qhLKJpSL-9ljLeYCuSaSlcGs1axh', 'https://play-lh.googleusercontent.com/f85ELaF6WsnWAvAQt_ITsfUyH4bvvo_VZOs17V8qDHCO1rFgXkeeTpAG-tpfZhWtY-k', 'https://play-lh.googleusercontent.com/RS70M-N_VBRJueIRacnKqR7JXNPXOwogrAQN0V55Bn_I0YxEHUQ9K8JYi_jL2Q_VZzI', 'https://play-lh.googleusercontent.com/Y88tyEMPweln_ZT9V19O2Way3H5TPKLPRi1Ps9NEGBFuoV7QvKl8mqkZGmBD76LsWkNK', 'https://play-lh.googleusercontent.com/iNy6ONWrSAOiaXupxC1KvQwyW5cKR-Myi0aTUnqFLi5WEqAJKXjuA9VwiOnUiLzYaw', 'https://play-lh.googleusercontent.com/RCNry3MrAJTyS5iVaQEphGFDzBziSnfyghptQtTE4XX1qNQbni7y56EzRFOOzDhtSVDe', 'https://play-lh.googleusercontent.com/o09MfxaNk7sTSgC-D95qL5J8MIiGNQD8lIGYYzb4sp5PzkFzCduUJrwTJzLrvBixesM', 'https://play-lh.googleusercontent.com/kCIeFoDDiErelOzxmjJ22aRqK4rlI7Sc6HURFkhz9r117MzgsnMaZ1eEqdrb5h0GDg', 'https://play-lh.googleusercontent.com/HsCf_ErgNhPX320mCGq23lzveq1ihWGJqF8zfOGfF5HbWPqv6xtXKC7mUi_Qm8wI4r4', 'https://play-lh.googleusercontent.com/eRIJuw7Ocureh1vPLdItAjp7d3Gt29UwEcsnEUfjF3fyIIaDTbmFSWpTuMf8pqqFS7jW', 'https://play-lh.googleusercontent.com/bg3_kgzbN4VqfPNIJYOLP9sVtVa-Mj6xZ7SUZrD5DGv75RNpJDdgNb7PysCpplRGD0s', 'https://play-lh.googleusercontent.com/_9CpkFAeA023uo67yAoogphMnzzRcyFW5Wpn2fCuz5tzhAsObxRvOfKgn8apMJdX5e4', 'https://play-lh.googleusercontent.com/7UT-dTM82gK-BEjFRMAkGMhcKw4T9wgYR4Rc0jn7u8bUEfSRlA3sREwM_XfHS_8P-cg', 'https://play-lh.googleusercontent.com/BiitVUSWIhaXSB_FDawZwg7jkDfkgEb00oRvVGq2zg7I26LG2_VgWu9Qj_PuEVS8WO1h', 'https://play-lh.googleusercontent.com/g28IdYKQI2ofzNh9jpq6Cd-mVWAXMdED-LmXUSO8LYDcQeV-xN0bxdcuXQnhf4TX8k8', 'https://play-lh.googleusercontent.com/KZUOJdM0vPKhQIzsPYDvCO_O9DHnz8KynPJrG0HO7OM3a9kPWMUAGccwdtSTLKjTVw', 'https://play-lh.googleusercontent.com/CFxqIsJwPthZXKqbqUwSiSUwJ8Tok0p3D-sZ8x96qQFlgrU_aBNXf0scBb30s-Rr2PJd'], 'title': 'Subway Surfers', 'score': 4.380591, 'genre': 'Trò chơi điện tử', 'price': 0, 'free': True, 'currency': 'VND', 'video': 'https://www.youtube.com/embed/ASeLthLnQQU?ps=play&vq=large&rel=0&autohide=1&showinfo=0', 'videoImage': 'https://i.ytimg.com/vi/ASeLthLnQQU/hqdefault.jpg', 'description': 'DASH as fast as you can! \\r\\nDODGE the oncoming trains! \\r\\n\\r\\nHelp Jake, Tricky & Fresh escape from the grumpy Inspector and his dog. \\r\\n\\r\\n★ Grind trains with your cool crew! \\r\\n★ Colorful and vivid HD graphics! \\r\\n★ Hoverboard Surfing! \\r\\n★ Paint powered jetpack! \\r\\n★ Lightning fast swipe acrobatics! \\r\\n★ Challenge and help your friends! \\r\\n\\r\\nJoin the most daring chase! \\r\\n\\r\\nA Universal App with HD optimized graphics.\\r\\n\\r\\nBy Kiloo and Sybo.', 'descriptionHTML': 'DASH as fast as you can! <br>DODGE the oncoming trains! <br><br>Help Jake, Tricky &amp; Fresh escape from the grumpy Inspector and his dog. <br><br>★ Grind trains with your cool crew! <br>★ Colorful and vivid HD graphics! <br>★ Hoverboard Surfing! <br>★ Paint powered jetpack! <br>★ Lightning fast swipe acrobatics! <br>★ Challenge and help your friends! <br><br>Join the most daring chase! <br><br>A Universal App with HD optimized graphics.<br><br>By Kiloo and Sybo.', 'developer': 'SYBO Games', 'installs': '1.000.000.000+'}, {'appId': 'com.sybogames.subwaysurfers.match', 'icon': 'https://play-lh.googleusercontent.com/mREIVtsMfEmHMBdFh6s54dNSuwydaIgBIwdGuEhm8Ba4yAXDBmHG2vPU0ulAIoKt_g', 'screenshots': ['https://play-lh.googleusercontent.com/zQTHRbVJQCjVHb4x9qe5ACTQvzUe7MCP1xWVXgL7gpW668MV_XIBbGsNZ914gjGh3H0', 'https://play-lh.googleusercontent.com/Td5Mb30rd_W5EuQUSKEXfP0FBk9ZN3yB5thpIf9vNaO5GRvpcxytie76bXeEwgGjyg', 'https://play-lh.googleusercontent.com/bLvm1y_AI5_EraiCpZTohEoztb0PaL_EwWWjXnhDiJxJ4SStYtX6j1zN1GJ-Sx1_gw', 'https://play-lh.googleusercontent.com/1s0eqdGJYproNYaAJJtCiWPLTmffZv7YUQ9p2myhPQIWwWXd09L7_KIS77I3CFYrcQ', 'https://play-lh.googleusercontent.com/uaGF291lpYxRbreo7ruWkIdb7evErURycDNZTHH_61ZPNtbe0sh4BwZK7yLbwnMFRiQ', 'https://play-lh.googleusercontent.com/gWEG31ki5wYQyK7P5g315AGLsYpeusgO-5vD83vHc0BbqO3I4HnaJZIHQLJUaIOZU6M', 'https://play-lh.googleusercontent.com/oktjTmrpb49nt2MDbjc4Hz_h3GzkMaUG2np2ID527KRlnDPOL2whifBsKbVcrxX6JZo', 'https://play-lh.googleusercontent.com/azA23_Rm9a2lu3EMy0NKIzOh0BprqsgQUq1wtdbJX-P5Ox02vEiPKE05JcdaRvm8j6c', 'https://play-lh.googleusercontent.com/fqIx8wOaOspwArBSv3dxME7nwRNtY2Tg6QBhL28PecAsZbU14CdB2sqqebbtHbzwUjo', 'https://play-lh.googleusercontent.com/3Ba__h7qXed_ofphCm73JxwcVcl_XkBV9MT38I5FRcwy5t5O6oPALPkCUCypCM_zQl8', 'https://play-lh.googleusercontent.com/4Fr0FpS77ATuExqhQVh2qHjHnhtKBfI-trJXqNfQGwdSOO_3z97-7L-N667dIe6pn-w', 'https://play-lh.googleusercontent.com/Cc1dndlolyNphueTLOsX7aPnnczmOcbk66ZmrDDk9e2MLM_aS4az8kJd_WxaYLFveFU', 'https://play-lh.googleusercontent.com/IV9QBcSXtCmbmnEsaTHyOctW_Z4sz8pPw00kyOcmzOrqRJoVhirvOT1s4CRJjVlJiA', 'https://play-lh.googleusercontent.com/R2Doy6jB_Tjy3MI0XdAXxVJi1yVnSlWTXAaArRHeyc_ihHVJyPkM7nXdZHIfWow6qXmN', 'https://play-lh.googleusercontent.com/Mx_Px_jfcyuKsd90c5S8lVOup5NGS_pgT6bsSlhLiGmgXnZTvYOL5kNSNvVSq75H6HPK', 'https://play-lh.googleusercontent.com/uG3p7zqq872-BUX7eEvWZcC7JkI-mQ7sg2NBa73d6jqB6ATR_-tnrt_XQCUH5UDRyVk', 'https://play-lh.googleusercontent.com/UF163u7cM8OsUcJgl9Yan-B0NR4pFeZowPEALTh7UYEd_lfPWDMjjh4pbk9E2larpw', 'https://play-lh.googleusercontent.com/Q8hYPrg7UNJT_jq0i-fHbSIvQRcv_w8r7EF-_Qf5n7iArkRYZnwmtbKvjv04-0Y2Eio', 'https://play-lh.googleusercontent.com/9vjJuIZCXTj5-j7rhFHlRi8gdreNB7on0afh8fQwB_w2M4wyeB4SXWwUs0Sz5Gmz9As', 'https://play-lh.googleusercontent.com/LYRW9inUWbTqv9OvpSPu4wutE8Z1FFf9pPeCb-QG8GQTBp37jCPRITm4sF8bvNYDq1E', 'https://play-lh.googleusercontent.com/UE8JIgLsEm40Hhu93AvEf7ENp3rvmEZ5PChDHtVeg0VR6_sRR5Jo8zrxJUMEPRhgHw', 'https://play-lh.googleusercontent.com/7VFQnzZWspnkQZBSQzBfi8GHcCHqC6zAEh61zS80i9LmVY5KZpVki4_tRKNM1L895MY', 'https://play-lh.googleusercontent.com/ovr62SBvbFB6IOb21tCW_JB5H0aRihQ_x5Wm-31vJtUEDn70qasRILj9aDu0GhqDD-Y', 'https://play-lh.googleusercontent.com/LyRPbwZlDvcF5GbdABeywagZTl6cpr9Ki2igE0aC80SJn-38JMgPNRyn7LdC7FlxeQ0', 'https://play-lh.googleusercontent.com/8W7vFVzEUszBedsTqa9FOgbSLaigywF3aOfdGcf52qtNDyI_B6wKvKni5Wc1rXkchDvW'], 'title': 'Subway Surfers Match', 'score': 4.3333335, 'genre': 'Câu đố', 'price': 0, 'free': True, 'currency': 'VND', 'video': None, 'videoImage': None, 'description': 'From the creators of Subway Surfers, the most downloaded mobile game of the decade, comes a new, EPIC puzzle game! Join the exciting adventure and help the crew create awesome art on the streets of Subway City.\\r\\n\\r\\nExperience Subway City like never before, with hundreds of colorful match-3 puzzle levels. Collect spray cans, use them to decorate murals and expand to new locations.\\r\\n\\r\\nJump into the adventure and play NOW - endless fun awaits!\\r\\n\\r\\nWhat you can look forward to:\\r\\n- Hundreds of brain-teasing, match-3 puzzles!\\r\\n- Awesome boosters to help you progress!\\r\\n- Explore Subway City with your favorite characters!\\r\\n- Decoration: collect spray cans, paint tons of colorful murals and give the city a makeover!\\r\\n- Challenge: compete with your friends and other players worldwide!\\r\\n- Great team features!\\r\\n- Rewards that are even better than candy!\\r\\n\\r\\nCrush your competition by creating awesome combos to help you complete levels, challenge your puzzle-solving skills, and have a blast! Then relax as you beautify locations with gorgeous art.\\r\\n\\r\\nNeed a boost? Subway Surfers Match is a fast track to instant fun you can reach for any time of the day. Download and start solving puzzles today! It’s completely free to play, though some in-game items can also be purchased for real money.\\r\\n\\r\\nSubway Surfers Match can also be enjoyed offline, but we recommend staying connected to the Internet for full functionality and awesome updates.', 'descriptionHTML': 'From the creators of Subway Surfers, the most downloaded mobile game of the decade, comes a new, EPIC puzzle game! Join the exciting adventure and help the crew create awesome art on the streets of Subway City.<br><br>Experience Subway City like never before, with hundreds of colorful match-3 puzzle levels. Collect spray cans, use them to decorate murals and expand to new locations.<br><br>Jump into the adventure and play NOW - endless fun awaits!<br><br>What you can look forward to:<br>- Hundreds of brain-teasing, match-3 puzzles!<br>- Awesome boosters to help you progress!<br>- Explore Subway City with your favorite characters!<br>- Decoration: collect spray cans, paint tons of colorful murals and give the city a makeover!<br>- Challenge: compete with your friends and other players worldwide!<br>- Great team features!<br>- Rewards that are even better than candy!<br><br>Crush your competition by creating awesome combos to help you complete levels, challenge your puzzle-solving skills, and have a blast! Then relax as you beautify locations with gorgeous art.<br><br>Need a boost? Subway Surfers Match is a fast track to instant fun you can reach for any time of the day. Download and start solving puzzles today! It’s completely free to play, though some in-game items can also be purchased for real money.<br><br>Subway Surfers Match can also be enjoyed offline, but we recommend staying connected to the Internet for full functionality and awesome updates.', 'developer': 'SYBO Games', 'installs': '100.000+'}, {'appId': 'com.sybogames.brim', 'icon': 'https://play-lh.googleusercontent.com/JOMjZ_Ia7rQ4T3-0ExBmoPnc2fx7b6AcbdpzxF74rPrWLlcwyZREQvlZVM_yoebtWIY', 'screenshots': ['https://play-lh.googleusercontent.com/QwIkTIlBsd9OZKVRCuxz-dLoGdTiwhFYHRHKkgCWRly7D4dhbTd-jJa8H3dnKhFcxQo', 'https://play-lh.googleusercontent.com/uCkuR87Iz7OvCJX8nfsSBLBb_wDHPzeYEHTlourwl5U0q8WWtXpGq-wqxW0vBBFQ4g', 'https://play-lh.googleusercontent.com/P5YtcdIqvivZC3NmmNMQrpnsELtwb9Ny2XM1U2rAkyQ4tEN3r-Ps3sH-P5KmiI-3cg', 'https://play-lh.googleusercontent.com/XrRUap89OfeKo_xXV0qKooH2EmpaHzlNee-_1yVGGR7lRBEt02HKkT0_zPtbAWPlrCCb', 'https://play-lh.googleusercontent.com/9Z63aaKgYBPdG1M40pY-BarY-G-px3CmTqeo4vo-e69JrU5kZaa-SnZyvPmSxcB8xp4', 'https://play-lh.googleusercontent.com/vHmQxLstkWPt1_wdrXvXjx3KRoWED-gLpnAZ1auH6yJcqXwmBRqRTleqZaZlZETwAcs', 'https://play-lh.googleusercontent.com/dwcioG3ZM5_NBapWw5nsj3C3hRinR__itNIhA6sbHUT5MaobO9nLsatz57rD5--86A', 'https://play-lh.googleusercontent.com/zFWZyiJVZ3HtKAp1EZsb4_9AGgMhIRXWmExb9x4LFAd1PgNtkR83e91d3y33TnnV1vQ', 'https://play-lh.googleusercontent.com/g_2Xmcvr-DwpVKid0StM8rZrBTm1rddJ5ZbffQM2SWnD2e3UMkFmNX6VfE1fiMRH114', 'https://play-lh.googleusercontent.com/C7Wjhqw1TouUyeOdiGKfSUb6eRIqcpA617Shz1vAcnZrqclrqKAEgo-7OlUVHNBru10', 'https://play-lh.googleusercontent.com/OwNsGXqDNWGwRiMPCXmdcDUL9150-Tn0bNBl_uX9W5E8lMzv5fUTH6td0bfd2M8vAtvQ', 'https://play-lh.googleusercontent.com/rxbNLq_FrzGlhGOoMGGnWfCBAqUJ0sLEa79yREGBaGKJfvnjW8JUF4rAJoQZFSjPkzEz', 'https://play-lh.googleusercontent.com/fmUW-jwuWOcE-oS1OkU3Ro8ch4yRNJgwKAEa3ViE_Zaujf_40pMadXwQSl8WL5b7VA', 'https://play-lh.googleusercontent.com/nUxrbCNVs1v7gxXF-wDJx1u-a1BieoNZx2MqDk9dM7BzbGpVUsTox5lJR7MTN6ATjpUD', 'https://play-lh.googleusercontent.com/BWYbMIzEPUahlwKab3aMM-PRjoKFEDyCwHjQeb6DF6OETK5VDFFGndsOkiMYhePQT8b0', 'https://play-lh.googleusercontent.com/dWnFr6OOklc95ctX9A2WCUTiwVnqI-hakuPa2DLXjIf5GywKUQcOIMVZ9ipRtKTQ9xLc', 'https://play-lh.googleusercontent.com/QABAB_d3UqWM4q7WkfOxHi4NH2o3aHaLf9JJtwkyv1-52-iwaahCx7KkaQcdWHs3QSXE', 'https://play-lh.googleusercontent.com/uINVUG49FdYRmmGjz6MuhMRRcHyuYVpi8mhtIAFGoM_pBUcIBw3PuAx4FedZXt1JPvc', 'https://play-lh.googleusercontent.com/R-R67_MjOJUmFfr1mhZa3RELz4LHSovvzi1Bw5ahPECMPt2drrqH74winFJ43OWMRQ'], 'title': 'Blades of Brim', 'score': 4.418976, 'genre': 'Hành động', 'price': 0, 'free': True, 'currency': 'VND', 'video': None, 'videoImage': None, 'description': 'Run to become the greatest knight that the world of Brim has EVER seen.\\r\\n \\r\\nDash into an epic universe where magic and mayhem await, filled to the BRIM with cool missions and unlimited weapon and armor upgrades available.\\r\\n\\r\\nPLAY as the awesome heroes of Brim to save the world from the invading army of Goons. Vault over majestic cliffs and hack and slash Goons and their gruesome bosses with your magical sword.\\r\\n\\r\\nCollect treasures and gold coins while you run, jump, and slay your way through the mega army of Goons to upgrade your epic characters and magical blades.\\r\\n \\r\\nDash through dark portals and ancient temples, to earn awesome achievements to unlock even more gear and goals!\\r\\n\\r\\n- Leap over majestic cliffs and run to escape the grim Goons of Brim\\r\\n- Dodge enemies and obstacles on your path to greatness\\r\\n- Collect mythical essence and shiny golden coins to unlock amazing heroes and blades\\r\\n- Defeat the gruesome enemies with awesome weapons\\r\\n- Befriend unique pets like elementals, wolves, horses, and magical dragons\\r\\n- Level up and boost your equipment\\r\\n- Perform fast-paced hit-combos and on your road to becoming the greatest hero of all time\\r\\n- From the creators that gave you Subway Surfers!\\r\\n \\r\\nThis free game gives you endless fun that never ends. Accept our quest and play now!', 'descriptionHTML': 'Run to become the greatest knight that the world of Brim has EVER seen.<br> <br>Dash into an epic universe where magic and mayhem await, filled to the BRIM with cool missions and unlimited weapon and armor upgrades available.<br><br>PLAY as the awesome heroes of Brim to save the world from the invading army of Goons. Vault over majestic cliffs and hack and slash Goons and their gruesome bosses with your magical sword.<br><br>Collect treasures and gold coins while you run, jump, and slay your way through the mega army of Goons to upgrade your epic characters and magical blades.<br> <br>Dash through dark portals and ancient temples, to earn awesome achievements to unlock even more gear and goals!<br><br>- Leap over majestic cliffs and run to escape the grim Goons of Brim<br>- Dodge enemies and obstacles on your path to greatness<br>- Collect mythical essence and shiny golden coins to unlock amazing heroes and blades<br>- Defeat the gruesome enemies with awesome weapons<br>- Befriend unique pets like elementals, wolves, horses, and magical dragons<br>- Level up and boost your equipment<br>- Perform fast-paced hit-combos and on your road to becoming the greatest hero of all time<br>- From the creators that gave you Subway Surfers!<br> <br>This free game gives you endless fun that never ends. Accept our quest and play now!', 'developer': 'SYBO Games', 'installs': '10.000.000+'}]\n"
     ]
    }
   ],
   "source": [
    "res2 = search(\n",
    "    \"subwaysurf\",\n",
    "    lang=\"vi\",  # defaults to 'en'\n",
    "    country=\"vn\",  # defaults to 'us'\n",
    "    n_hits=3  # defaults to 30 (= Google's maximum)\n",
    ")\n",
    "\n",
    "print(res2)"
   ]
  },
  {
   "cell_type": "code",
   "execution_count": 2,
   "metadata": {},
   "outputs": [],
   "source": [
    "result = reviews_all(\n",
    "    'com.kiloo.subwaysurf',\n",
    "    sleep_milliseconds=0, # defaults to 0\n",
    "    lang='vi', # defaults to 'en'\n",
    "    country='vn', # defaults to 'us'\n",
    "    sort=Sort.MOST_RELEVANT, # defaults to Sort.MOST_RELEVANT\n",
    "    filter_score_with=5 # defaults to None(means all score)\n",
    "    \n",
    ")\n",
    "\n",
    "# If you pass `continuation_token` as an argument to the reviews function at this point,\n",
    "# it will crawl the items after 3 review items.\n"
   ]
  },
  {
   "cell_type": "code",
   "execution_count": 3,
   "metadata": {},
   "outputs": [
    {
     "data": {
      "text/html": [
       "<div>\n",
       "<style scoped>\n",
       "    .dataframe tbody tr th:only-of-type {\n",
       "        vertical-align: middle;\n",
       "    }\n",
       "\n",
       "    .dataframe tbody tr th {\n",
       "        vertical-align: top;\n",
       "    }\n",
       "\n",
       "    .dataframe thead th {\n",
       "        text-align: right;\n",
       "    }\n",
       "</style>\n",
       "<table border=\"1\" class=\"dataframe\">\n",
       "  <thead>\n",
       "    <tr style=\"text-align: right;\">\n",
       "      <th></th>\n",
       "      <th>reviewId</th>\n",
       "      <th>userName</th>\n",
       "      <th>userImage</th>\n",
       "      <th>content</th>\n",
       "      <th>score</th>\n",
       "      <th>thumbsUpCount</th>\n",
       "      <th>reviewCreatedVersion</th>\n",
       "      <th>at</th>\n",
       "      <th>replyContent</th>\n",
       "      <th>repliedAt</th>\n",
       "    </tr>\n",
       "  </thead>\n",
       "  <tbody>\n",
       "    <tr>\n",
       "      <th>0</th>\n",
       "      <td>16561b27-4063-4687-8401-9ee1d7233811</td>\n",
       "      <td>Hiểu Bùi</td>\n",
       "      <td>https://play-lh.googleusercontent.com/a/ALm5wu...</td>\n",
       "      <td>hay nha nhưng cho tiếng Việt thì tốt hơn:))</td>\n",
       "      <td>5</td>\n",
       "      <td>118</td>\n",
       "      <td>3.2.1</td>\n",
       "      <td>2022-10-24 11:42:50</td>\n",
       "      <td>None</td>\n",
       "      <td>NaT</td>\n",
       "    </tr>\n",
       "    <tr>\n",
       "      <th>1</th>\n",
       "      <td>6706a6cb-222f-48d5-8d50-93651ed3290b</td>\n",
       "      <td>Sơn Lê</td>\n",
       "      <td>https://play-lh.googleusercontent.com/a-/ACNPE...</td>\n",
       "      <td>Hay quá ko bị lát</td>\n",
       "      <td>5</td>\n",
       "      <td>65</td>\n",
       "      <td>3.2.1</td>\n",
       "      <td>2022-10-22 11:55:41</td>\n",
       "      <td>None</td>\n",
       "      <td>NaT</td>\n",
       "    </tr>\n",
       "    <tr>\n",
       "      <th>2</th>\n",
       "      <td>068a1ce3-f0d8-4eee-aba2-f22690577c5e</td>\n",
       "      <td>Huy Dinh</td>\n",
       "      <td>https://play-lh.googleusercontent.com/a/ALm5wu...</td>\n",
       "      <td>Game giống gem xxx nên chơi .</td>\n",
       "      <td>5</td>\n",
       "      <td>45</td>\n",
       "      <td>3.2.1</td>\n",
       "      <td>2022-10-22 13:08:54</td>\n",
       "      <td>None</td>\n",
       "      <td>NaT</td>\n",
       "    </tr>\n",
       "    <tr>\n",
       "      <th>3</th>\n",
       "      <td>2e3cdbab-49c8-4c38-8aa8-7593ebe3e36c</td>\n",
       "      <td>Phong Nguyên</td>\n",
       "      <td>https://play-lh.googleusercontent.com/a/ALm5wu...</td>\n",
       "      <td>gaem rất hay mà tui ko bt tiếng anh</td>\n",
       "      <td>5</td>\n",
       "      <td>5</td>\n",
       "      <td>3.2.1</td>\n",
       "      <td>2022-10-24 07:27:36</td>\n",
       "      <td>None</td>\n",
       "      <td>NaT</td>\n",
       "    </tr>\n",
       "    <tr>\n",
       "      <th>4</th>\n",
       "      <td>a70796b5-d040-4d9b-9067-4bf98311b1f4</td>\n",
       "      <td>Chuc phung</td>\n",
       "      <td>https://play-lh.googleusercontent.com/a/ALm5wu...</td>\n",
       "      <td>Nph ơi toàn hack thôi mong sửa chữa lại chứ ko...</td>\n",
       "      <td>5</td>\n",
       "      <td>1</td>\n",
       "      <td>3.2.1</td>\n",
       "      <td>2022-10-27 17:32:45</td>\n",
       "      <td>None</td>\n",
       "      <td>NaT</td>\n",
       "    </tr>\n",
       "  </tbody>\n",
       "</table>\n",
       "</div>"
      ],
      "text/plain": [
       "                               reviewId      userName  \\\n",
       "0  16561b27-4063-4687-8401-9ee1d7233811      Hiểu Bùi   \n",
       "1  6706a6cb-222f-48d5-8d50-93651ed3290b        Sơn Lê   \n",
       "2  068a1ce3-f0d8-4eee-aba2-f22690577c5e      Huy Dinh   \n",
       "3  2e3cdbab-49c8-4c38-8aa8-7593ebe3e36c  Phong Nguyên   \n",
       "4  a70796b5-d040-4d9b-9067-4bf98311b1f4    Chuc phung   \n",
       "\n",
       "                                           userImage  \\\n",
       "0  https://play-lh.googleusercontent.com/a/ALm5wu...   \n",
       "1  https://play-lh.googleusercontent.com/a-/ACNPE...   \n",
       "2  https://play-lh.googleusercontent.com/a/ALm5wu...   \n",
       "3  https://play-lh.googleusercontent.com/a/ALm5wu...   \n",
       "4  https://play-lh.googleusercontent.com/a/ALm5wu...   \n",
       "\n",
       "                                             content  score  thumbsUpCount  \\\n",
       "0        hay nha nhưng cho tiếng Việt thì tốt hơn:))      5            118   \n",
       "1                                  Hay quá ko bị lát      5             65   \n",
       "2                      Game giống gem xxx nên chơi .      5             45   \n",
       "3                gaem rất hay mà tui ko bt tiếng anh      5              5   \n",
       "4  Nph ơi toàn hack thôi mong sửa chữa lại chứ ko...      5              1   \n",
       "\n",
       "  reviewCreatedVersion                  at replyContent repliedAt  \n",
       "0                3.2.1 2022-10-24 11:42:50         None       NaT  \n",
       "1                3.2.1 2022-10-22 11:55:41         None       NaT  \n",
       "2                3.2.1 2022-10-22 13:08:54         None       NaT  \n",
       "3                3.2.1 2022-10-24 07:27:36         None       NaT  \n",
       "4                3.2.1 2022-10-27 17:32:45         None       NaT  "
      ]
     },
     "execution_count": 3,
     "metadata": {},
     "output_type": "execute_result"
    }
   ],
   "source": [
    "df = pd.DataFrame.from_dict(data=result)\n",
    "df.head()"
   ]
  },
  {
   "cell_type": "code",
   "execution_count": 4,
   "metadata": {},
   "outputs": [
    {
     "data": {
      "text/plain": [
       "(102399, 10)"
      ]
     },
     "execution_count": 4,
     "metadata": {},
     "output_type": "execute_result"
    }
   ],
   "source": [
    "df.shape"
   ]
  },
  {
   "cell_type": "code",
   "execution_count": 8,
   "metadata": {},
   "outputs": [
    {
     "data": {
      "text/plain": [
       "Index(['reviewId', 'userName', 'userImage', 'content', 'score',\n",
       "       'thumbsUpCount', 'reviewCreatedVersion', 'at', 'replyContent',\n",
       "       'repliedAt'],\n",
       "      dtype='object')"
      ]
     },
     "execution_count": 8,
     "metadata": {},
     "output_type": "execute_result"
    }
   ],
   "source": [
    "df.columns"
   ]
  },
  {
   "cell_type": "code",
   "execution_count": 5,
   "metadata": {},
   "outputs": [],
   "source": [
    "df.to_csv('5_stars_subwaysurf.csv')"
   ]
  }
 ],
 "metadata": {
  "interpreter": {
   "hash": "e7f87cd01ba236307908a22db4a6b42e88661056e9d11e5f5fce249fb86a9f14"
  },
  "kernelspec": {
   "display_name": "Python 3.8.8 ('base')",
   "language": "python",
   "name": "python3"
  },
  "language_info": {
   "codemirror_mode": {
    "name": "ipython",
    "version": 3
   },
   "file_extension": ".py",
   "mimetype": "text/x-python",
   "name": "python",
   "nbconvert_exporter": "python",
   "pygments_lexer": "ipython3",
   "version": "3.8.8"
  },
  "orig_nbformat": 4
 },
 "nbformat": 4,
 "nbformat_minor": 2
}
