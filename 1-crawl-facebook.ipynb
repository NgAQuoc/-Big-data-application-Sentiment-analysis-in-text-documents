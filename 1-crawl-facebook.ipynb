{
 "cells": [
  {
   "cell_type": "code",
   "execution_count": 8,
   "metadata": {},
   "outputs": [],
   "source": [
    "from selenium import webdriver\n",
    "from selenium.webdriver.common.keys import Keys\n",
    "from selenium.webdriver.common.by import By\n",
    "from selenium.common.exceptions import NoSuchElementException\n",
    "from selenium.common.exceptions import StaleElementReferenceException\n",
    "from selenium.webdriver.support.ui import WebDriverWait\n",
    "from selenium.webdriver.support import expected_conditions\n",
    "import time\n",
    "from bs4 import BeautifulSoup\n",
    "import pandas as pd\n",
    "import numpy as np\n",
    "import codecs\n",
    "import os\n"
   ]
  },
  {
   "cell_type": "markdown",
   "metadata": {},
   "source": [
    "<h2> Crawl and prase review fanpage Mobile City </h2>"
   ]
  },
  {
   "cell_type": "code",
   "execution_count": 9,
   "metadata": {},
   "outputs": [],
   "source": [
    "driver = webdriver.Edge()\n",
    "driver.get(\"https://m.facebook.com/pg/MobileCity.vn/reviews/?ref=page_internal\")\n",
    "ignored_exceptions=(NoSuchElementException,StaleElementReferenceException,)\n",
    "button_page = WebDriverWait(driver, 7,ignored_exceptions=ignored_exceptions).until(expected_conditions.presence_of_element_located((By.XPATH,\"//i[@class='img sp_zW6EzRbnK3e sx_f8ae92']\")))\n",
    "driver.execute_script(\"arguments[0].click();\",button_page)\n",
    "SCROLL_PAUSE_TIME = 3\n",
    "\n",
    "# Get scroll height\n",
    "last_height = driver.execute_script(\"return document.body.scrollHeight\")\n",
    "\n",
    "while True:\n",
    "    # Scroll down to bottom\n",
    "    driver.execute_script(\"window.scrollTo(0, document.body.scrollHeight);\")\n",
    "\n",
    "    # Wait to load page\n",
    "    time.sleep(SCROLL_PAUSE_TIME)\n",
    "\n",
    "    # Calculate new scroll height and compare with last scroll height\n",
    "    new_height = driver.execute_script(\"return document.body.scrollHeight\")\n",
    "    if new_height == last_height:\n",
    "        break\n",
    "    last_height = new_height\n",
    "html=driver.page_source\n",
    "soup = BeautifulSoup(html,\"lxml\")\n",
    "driver.quit()"
   ]
  },
  {
   "cell_type": "code",
   "execution_count": 10,
   "metadata": {},
   "outputs": [],
   "source": [
    "list_review=[]\n",
    "for tag in soup.find_all('div',class_=\"_5rgt _5nk5 _5msi\"):\n",
    "        list_review.append(tag.text)\n",
    "list_recommend=[]\n",
    "for tag in soup.find_all('div',class_=\"_59k _1-6c _2rgt _1j-f _2rgt\"):\n",
    "    list_recommend_1=[]\n",
    "    for string in tag.stripped_strings:\n",
    "        list_recommend_1.append(string)\n",
    "    list_recommend.append(list_recommend_1[1])"
   ]
  },
  {
   "cell_type": "code",
   "execution_count": 11,
   "metadata": {},
   "outputs": [],
   "source": [
    "dictionary={'Content':list_review,'Label':list_recommend}\n",
    "df=pd.DataFrame(dictionary)\n",
    "df.dropna(inplace=True)\n",
    "df['Content'].replace('', np.nan, inplace=True)\n",
    "df.dropna(inplace=True)\n",
    "df.to_csv(\"data\\raw\\obile_City_review.csv\")"
   ]
  },
  {
   "cell_type": "markdown",
   "metadata": {},
   "source": [
    "<h2> Crawl and prase review fanpage CellphoneS </h2>"
   ]
  },
  {
   "cell_type": "code",
   "execution_count": 13,
   "metadata": {},
   "outputs": [],
   "source": [
    "driver = webdriver.Edge()\n",
    "driver.get(\"https://m.facebook.com/pg/CellphoneSVietnam/reviews/?ref=page_internal\")\n",
    "ignored_exceptions=(NoSuchElementException,StaleElementReferenceException,)\n",
    "button_page = WebDriverWait(driver, 7,ignored_exceptions=ignored_exceptions).until(expected_conditions.presence_of_element_located((By.XPATH,\"//i[@class='img sp_zW6EzRbnK3e sx_f8ae92']\")))\n",
    "driver.execute_script(\"arguments[0].click();\",button_page)\n",
    "SCROLL_PAUSE_TIME = 3\n",
    "\n",
    "# Get scroll height\n",
    "last_height = driver.execute_script(\"return document.body.scrollHeight\")\n",
    "\n",
    "while True:\n",
    "    # Scroll down to bottom\n",
    "    driver.execute_script(\"window.scrollTo(0, document.body.scrollHeight);\")\n",
    "\n",
    "    # Wait to load page\n",
    "    time.sleep(SCROLL_PAUSE_TIME)\n",
    "\n",
    "    # Calculate new scroll height and compare with last scroll height\n",
    "    new_height = driver.execute_script(\"return document.body.scrollHeight\")\n",
    "    if new_height == last_height:\n",
    "        break\n",
    "    last_height = new_height\n",
    "html=driver.page_source\n",
    "soup = BeautifulSoup(html,\"lxml\")\n",
    "driver.quit()"
   ]
  },
  {
   "cell_type": "code",
   "execution_count": 14,
   "metadata": {},
   "outputs": [
    {
     "data": {
      "text/plain": [
       "533"
      ]
     },
     "execution_count": 14,
     "metadata": {},
     "output_type": "execute_result"
    }
   ],
   "source": [
    "len(soup.find_all('div',class_=\"_5rgt _5nk5 _5msi\"))"
   ]
  },
  {
   "cell_type": "code",
   "execution_count": null,
   "metadata": {},
   "outputs": [],
   "source": [
    "list_review=[]\n",
    "for tag in soup.find_all('div',class_=\"_5rgt _5nk5 _5msi\"):\n",
    "        list_review.append(tag.text)\n",
    "list_recommend=[]\n",
    "for tag in soup.find_all('div',class_=\"_59k _1-6c _2rgt _1j-f _2rgt\"):\n",
    "    list_recommend_1=[]\n",
    "    for string in tag.stripped_strings:\n",
    "        list_recommend_1.append(string)\n",
    "    list_recommend.append(list_recommend_1[1])"
   ]
  },
  {
   "cell_type": "code",
   "execution_count": null,
   "metadata": {},
   "outputs": [],
   "source": [
    "dictionary={'Content':list_review,'Label':list_recommend}\n",
    "df=pd.DataFrame(dictionary)\n",
    "df.dropna(inplace=True)\n",
    "df['Content'].replace('', np.nan, inplace=True)\n",
    "df.dropna(inplace=True)\n",
    "df.to_csv(\"data\\raw\\CellphoneS_review.csv\")"
   ]
  }
 ],
 "metadata": {
  "interpreter": {
   "hash": "7280fd4b02f0a7fd8f9d02d2e480cdba4a6c31f1f568d35ddf3d667ef85447c5"
  },
  "kernelspec": {
   "display_name": "Python 3.8.8 ('base')",
   "language": "python",
   "name": "python3"
  },
  "language_info": {
   "codemirror_mode": {
    "name": "ipython",
    "version": 3
   },
   "file_extension": ".py",
   "mimetype": "text/x-python",
   "name": "python",
   "nbconvert_exporter": "python",
   "pygments_lexer": "ipython3",
   "version": "3.8.8"
  },
  "orig_nbformat": 4
 },
 "nbformat": 4,
 "nbformat_minor": 2
}
